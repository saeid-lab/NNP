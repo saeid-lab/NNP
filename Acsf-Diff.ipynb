{
 "cells": [
  {
   "cell_type": "code",
   "execution_count": 26,
   "metadata": {},
   "outputs": [],
   "source": [
    "from sympy import *\n",
    "from IPython.display import display"
   ]
  },
  {
   "cell_type": "code",
   "execution_count": 58,
   "metadata": {},
   "outputs": [],
   "source": [
    "# Defining Symbols\n",
    "xij, yij, zij = symbols('xij, yij, zij')\n",
    "xik, yik, zik = symbols('xik, yik, zik')\n",
    "xjk, yjk, zjk = symbols('xjk, yjk, zjk')\n",
    "rc, rs, eta, lamb, zeta   = symbols('rc, rs, eta, lambda, zeta', constant=True)\n",
    "rij, rik, rjk, rij_dot_ik = symbols('rij, rik, rjk, rij_dot_ik', positive=True)\n",
    "cosTheta = symbols('cosTheta')\n",
    "kappa = symbols(r'kappa', constant=True)"
   ]
  },
  {
   "cell_type": "code",
   "execution_count": 3,
   "metadata": {},
   "outputs": [],
   "source": [
    "fc_rij = 0.5*(cos(pi*sqrt(xij**2 + yij**2 + zij**2)/rc)+1)\n",
    "fc_rik = 0.5*(cos(pi*sqrt(xik**2 + yik**2 + zik**2)/rc)+1)\n",
    "fc_rjk = 0.5*(cos(pi*sqrt(xjk**2 + yjk**2 + zjk**2)/rc)+1)"
   ]
  },
  {
   "cell_type": "code",
   "execution_count": 76,
   "metadata": {},
   "outputs": [],
   "source": [
    "def New_Radial(eq,var):\n",
    "    value = eq.subs(sqrt(xij**2 + yij**2 + zij**2),var)\n",
    "    return value.simplify()"
   ]
  },
  {
   "cell_type": "code",
   "execution_count": 77,
   "metadata": {},
   "outputs": [
    {
     "name": "stdout",
     "output_type": "stream",
     "text": [
      "Derivitives of G1:\n",
      "\n"
     ]
    },
    {
     "data": {
      "text/latex": [
       "$\\displaystyle - \\frac{0.5 \\pi xij \\sin{\\left(\\frac{\\pi rij}{rc} \\right)}}{rc rij}$"
      ],
      "text/plain": [
       "-0.5*pi*xij*sin(pi*rij/rc)/(rc*rij)"
      ]
     },
     "metadata": {},
     "output_type": "display_data"
    },
    {
     "data": {
      "text/latex": [
       "$\\displaystyle - \\frac{0.5 \\pi yij \\sin{\\left(\\frac{\\pi rij}{rc} \\right)}}{rc rij}$"
      ],
      "text/plain": [
       "-0.5*pi*yij*sin(pi*rij/rc)/(rc*rij)"
      ]
     },
     "metadata": {},
     "output_type": "display_data"
    },
    {
     "data": {
      "text/latex": [
       "$\\displaystyle - \\frac{0.5 \\pi zij \\sin{\\left(\\frac{\\pi rij}{rc} \\right)}}{rc rij}$"
      ],
      "text/plain": [
       "-0.5*pi*zij*sin(pi*rij/rc)/(rc*rij)"
      ]
     },
     "metadata": {},
     "output_type": "display_data"
    }
   ],
   "source": [
    "G1 = fc_rij\n",
    "\n",
    "print('Derivitives of G1:\\n')\n",
    "DG1xij = diff(G1,xij)\n",
    "display(New_Radial(DG1xij,rij))\n",
    "###\n",
    "DG1yij = diff(G1,yij)\n",
    "display(New_Radial(DG1yij,rij))\n",
    "###\n",
    "DG1zij = diff(G1,zij)\n",
    "display(New_Radial(DG1zij,rij))"
   ]
  },
  {
   "cell_type": "code",
   "execution_count": 78,
   "metadata": {},
   "outputs": [
    {
     "name": "stdout",
     "output_type": "stream",
     "text": [
      "Derivitives of G2:\n",
      "\n"
     ]
    },
    {
     "data": {
      "text/latex": [
       "$\\displaystyle - \\frac{xij \\left(1.0 \\eta rc \\left(rij - rs\\right) \\left(\\cos{\\left(\\frac{\\pi rij}{rc} \\right)} + 1\\right) + 0.5 \\pi \\sin{\\left(\\frac{\\pi rij}{rc} \\right)}\\right) e^{- \\eta \\left(rij - rs\\right)^{2}}}{rc rij}$"
      ],
      "text/plain": [
       "-xij*(1.0*eta*rc*(rij - rs)*(cos(pi*rij/rc) + 1) + 0.5*pi*sin(pi*rij/rc))*exp(-eta*(rij - rs)**2)/(rc*rij)"
      ]
     },
     "metadata": {},
     "output_type": "display_data"
    },
    {
     "data": {
      "text/latex": [
       "$\\displaystyle - \\frac{yij \\left(1.0 \\eta rc \\left(rij - rs\\right) \\left(\\cos{\\left(\\frac{\\pi rij}{rc} \\right)} + 1\\right) + 0.5 \\pi \\sin{\\left(\\frac{\\pi rij}{rc} \\right)}\\right) e^{- \\eta \\left(rij - rs\\right)^{2}}}{rc rij}$"
      ],
      "text/plain": [
       "-yij*(1.0*eta*rc*(rij - rs)*(cos(pi*rij/rc) + 1) + 0.5*pi*sin(pi*rij/rc))*exp(-eta*(rij - rs)**2)/(rc*rij)"
      ]
     },
     "metadata": {},
     "output_type": "display_data"
    },
    {
     "data": {
      "text/latex": [
       "$\\displaystyle - \\frac{zij \\left(1.0 \\eta rc \\left(rij - rs\\right) \\left(\\cos{\\left(\\frac{\\pi rij}{rc} \\right)} + 1\\right) + 0.5 \\pi \\sin{\\left(\\frac{\\pi rij}{rc} \\right)}\\right) e^{- \\eta \\left(rij - rs\\right)^{2}}}{rc rij}$"
      ],
      "text/plain": [
       "-zij*(1.0*eta*rc*(rij - rs)*(cos(pi*rij/rc) + 1) + 0.5*pi*sin(pi*rij/rc))*exp(-eta*(rij - rs)**2)/(rc*rij)"
      ]
     },
     "metadata": {},
     "output_type": "display_data"
    }
   ],
   "source": [
    "G2 = exp(-eta*(sqrt(xij**2 + yij**2 + zij**2)-rs)**2) * fc_rij\n",
    "\n",
    "print('Derivitives of G2:\\n')\n",
    "\n",
    "DG2xij = diff (G2,xij)\n",
    "display(New_Radial(DG2xij,rij))\n",
    "###\n",
    "DG2yij = diff (G2,yij)\n",
    "display(New_Radial(DG2yij,rij))\n",
    "###\n",
    "DG2zij = diff (G2,zij)\n",
    "display(New_Radial(DG2zij,rij))"
   ]
  },
  {
   "cell_type": "code",
   "execution_count": 82,
   "metadata": {},
   "outputs": [
    {
     "name": "stdout",
     "output_type": "stream",
     "text": [
      "Derivitives of G3:\n",
      "\n"
     ]
    },
    {
     "data": {
      "text/latex": [
       "$\\displaystyle - \\frac{0.5 xij \\left(\\kappa rc \\left(\\cos{\\left(\\frac{\\pi rij}{rc} \\right)} + 1\\right) \\sin{\\left(\\kappa rij \\right)} + \\pi \\sin{\\left(\\frac{\\pi rij}{rc} \\right)} \\cos{\\left(\\kappa rij \\right)}\\right)}{rc rij}$"
      ],
      "text/plain": [
       "-0.5*xij*(kappa*rc*(cos(pi*rij/rc) + 1)*sin(kappa*rij) + pi*sin(pi*rij/rc)*cos(kappa*rij))/(rc*rij)"
      ]
     },
     "metadata": {},
     "output_type": "display_data"
    },
    {
     "data": {
      "text/latex": [
       "$\\displaystyle - \\frac{0.5 yij \\left(\\kappa rc \\left(\\cos{\\left(\\frac{\\pi rij}{rc} \\right)} + 1\\right) \\sin{\\left(\\kappa rij \\right)} + \\pi \\sin{\\left(\\frac{\\pi rij}{rc} \\right)} \\cos{\\left(\\kappa rij \\right)}\\right)}{rc rij}$"
      ],
      "text/plain": [
       "-0.5*yij*(kappa*rc*(cos(pi*rij/rc) + 1)*sin(kappa*rij) + pi*sin(pi*rij/rc)*cos(kappa*rij))/(rc*rij)"
      ]
     },
     "metadata": {},
     "output_type": "display_data"
    },
    {
     "data": {
      "text/latex": [
       "$\\displaystyle - \\frac{0.5 zij \\left(\\kappa rc \\left(\\cos{\\left(\\frac{\\pi rij}{rc} \\right)} + 1\\right) \\sin{\\left(\\kappa rij \\right)} + \\pi \\sin{\\left(\\frac{\\pi rij}{rc} \\right)} \\cos{\\left(\\kappa rij \\right)}\\right)}{rc rij}$"
      ],
      "text/plain": [
       "-0.5*zij*(kappa*rc*(cos(pi*rij/rc) + 1)*sin(kappa*rij) + pi*sin(pi*rij/rc)*cos(kappa*rij))/(rc*rij)"
      ]
     },
     "metadata": {},
     "output_type": "display_data"
    }
   ],
   "source": [
    "G3 = cos(kappa*sqrt(xij**2 + yij**2 + zij**2)) * fc_rij\n",
    "\n",
    "print('Derivitives of G3:\\n')\n",
    "\n",
    "DG3xij = diff (G3,xij)\n",
    "display(New_Radial(DG3xij,rij))\n",
    "###\n",
    "DG3yij = diff (G3,yij)\n",
    "display(New_Radial(DG3yij,rij))\n",
    "###\n",
    "DG3zij = diff (G3,zij)\n",
    "display(New_Radial(DG3zij,rij))"
   ]
  },
  {
   "cell_type": "code",
   "execution_count": 87,
   "metadata": {},
   "outputs": [],
   "source": [
    "def New_angular(eq):\n",
    "    eq = eq.subs(sqrt(xij**2 + yij**2 + zij**2), rij)\n",
    "    eq = eq.subs(sqrt(xik**2 + yik**2 + zik**2), rik )\n",
    "    eq = eq.subs(sqrt(xjk**2 + yjk**2 + zjk**2), rjk)\n",
    "    eq = eq.subs(xij*xik + yij*yik + zij*zik   , rij_dot_ik)\n",
    "    eq = eq.subs(rij_dot_ik/(rij*rik)          , cosTheta)\n",
    "    eq = eq.subs(xij**2 + yij**2 + zij**2      , rij**2)\n",
    "    eq = eq.subs(xik**2 + yik**2 + zik**2      , rik**2)\n",
    "    eq = eq.subs(xjk**2 + yjk**2 + zjk**2      , rjk**2)\n",
    "    eq = eq.simplify()\n",
    "    return eq"
   ]
  },
  {
   "cell_type": "code",
   "execution_count": 88,
   "metadata": {},
   "outputs": [],
   "source": [
    "cos_t = ( xij*xik + yij*yik + zij*zik )/( sqrt(xij**2 + yij**2 + zij**2) * sqrt(xik**2 + yik**2 + zik**2) )\n",
    "sec = (xij**2+yij**2+zij**2 + xik**2+yik**2+zik**2 + xjk**2+yjk**2+zjk**2)"
   ]
  },
  {
   "cell_type": "code",
   "execution_count": 89,
   "metadata": {},
   "outputs": [],
   "source": [
    "G4 = 2**(1-zeta) * ((1+lamb*cos_t)**zeta) * exp(-eta * sec) * fc_rij * fc_rik * fc_rjk"
   ]
  },
  {
   "cell_type": "code",
   "execution_count": 93,
   "metadata": {},
   "outputs": [
    {
     "data": {
      "text/latex": [
       "$\\displaystyle - \\frac{2^{- \\zeta} \\left(\\cos{\\left(\\frac{\\pi rik}{rc} \\right)} + 1\\right) \\left(\\cos{\\left(\\frac{\\pi rjk}{rc} \\right)} + 1\\right) \\left(0.5 \\eta rc rij^{2} rik xij \\left(cosTheta \\lambda + 1\\right)^{\\zeta + 1} \\left(\\cos{\\left(\\frac{\\pi rij}{rc} \\right)} + 1\\right) + 0.25 \\lambda rc \\zeta \\left(cosTheta \\lambda + 1\\right)^{\\zeta} \\left(cosTheta rik xij - rij xik\\right) \\left(\\cos{\\left(\\frac{\\pi rij}{rc} \\right)} + 1\\right) + 0.25 \\pi rij rik xij \\left(cosTheta \\lambda + 1\\right)^{\\zeta + 1} \\sin{\\left(\\frac{\\pi rij}{rc} \\right)}\\right) e^{- \\eta \\left(rij^{2} + rik^{2} + rjk^{2}\\right)}}{rc rij^{2} rik \\left(cosTheta \\lambda + 1\\right)}$"
      ],
      "text/plain": [
       "-2**(-zeta)*(cos(pi*rik/rc) + 1)*(cos(pi*rjk/rc) + 1)*(0.5*eta*rc*rij**2*rik*xij*(cosTheta*lambda + 1)**(zeta + 1)*(cos(pi*rij/rc) + 1) + 0.25*lambda*rc*zeta*(cosTheta*lambda + 1)**zeta*(cosTheta*rik*xij - rij*xik)*(cos(pi*rij/rc) + 1) + 0.25*pi*rij*rik*xij*(cosTheta*lambda + 1)**(zeta + 1)*sin(pi*rij/rc))*exp(-eta*(rij**2 + rik**2 + rjk**2))/(rc*rij**2*rik*(cosTheta*lambda + 1))"
      ]
     },
     "metadata": {},
     "output_type": "display_data"
    },
    {
     "name": "stdout",
     "output_type": "stream",
     "text": [
      "###\n"
     ]
    },
    {
     "data": {
      "text/latex": [
       "$\\displaystyle - \\frac{2^{- \\zeta} \\left(\\cos{\\left(\\frac{\\pi rik}{rc} \\right)} + 1\\right) \\left(\\cos{\\left(\\frac{\\pi rjk}{rc} \\right)} + 1\\right) \\left(0.5 \\eta rc rij^{2} rik yij \\left(cosTheta \\lambda + 1\\right)^{\\zeta + 1} \\left(\\cos{\\left(\\frac{\\pi rij}{rc} \\right)} + 1\\right) + 0.25 \\lambda rc \\zeta \\left(cosTheta \\lambda + 1\\right)^{\\zeta} \\left(cosTheta rik yij - rij yik\\right) \\left(\\cos{\\left(\\frac{\\pi rij}{rc} \\right)} + 1\\right) + 0.25 \\pi rij rik yij \\left(cosTheta \\lambda + 1\\right)^{\\zeta + 1} \\sin{\\left(\\frac{\\pi rij}{rc} \\right)}\\right) e^{- \\eta \\left(rij^{2} + rik^{2} + rjk^{2}\\right)}}{rc rij^{2} rik \\left(cosTheta \\lambda + 1\\right)}$"
      ],
      "text/plain": [
       "-2**(-zeta)*(cos(pi*rik/rc) + 1)*(cos(pi*rjk/rc) + 1)*(0.5*eta*rc*rij**2*rik*yij*(cosTheta*lambda + 1)**(zeta + 1)*(cos(pi*rij/rc) + 1) + 0.25*lambda*rc*zeta*(cosTheta*lambda + 1)**zeta*(cosTheta*rik*yij - rij*yik)*(cos(pi*rij/rc) + 1) + 0.25*pi*rij*rik*yij*(cosTheta*lambda + 1)**(zeta + 1)*sin(pi*rij/rc))*exp(-eta*(rij**2 + rik**2 + rjk**2))/(rc*rij**2*rik*(cosTheta*lambda + 1))"
      ]
     },
     "metadata": {},
     "output_type": "display_data"
    },
    {
     "name": "stdout",
     "output_type": "stream",
     "text": [
      "###\n"
     ]
    },
    {
     "data": {
      "text/latex": [
       "$\\displaystyle - \\frac{2^{- \\zeta} \\left(\\cos{\\left(\\frac{\\pi rik}{rc} \\right)} + 1\\right) \\left(\\cos{\\left(\\frac{\\pi rjk}{rc} \\right)} + 1\\right) \\left(0.5 \\eta rc rij^{2} rik zij \\left(cosTheta \\lambda + 1\\right)^{\\zeta + 1} \\left(\\cos{\\left(\\frac{\\pi rij}{rc} \\right)} + 1\\right) + 0.25 \\lambda rc \\zeta \\left(cosTheta \\lambda + 1\\right)^{\\zeta} \\left(cosTheta rik zij - rij zik\\right) \\left(\\cos{\\left(\\frac{\\pi rij}{rc} \\right)} + 1\\right) + 0.25 \\pi rij rik zij \\left(cosTheta \\lambda + 1\\right)^{\\zeta + 1} \\sin{\\left(\\frac{\\pi rij}{rc} \\right)}\\right) e^{- \\eta \\left(rij^{2} + rik^{2} + rjk^{2}\\right)}}{rc rij^{2} rik \\left(cosTheta \\lambda + 1\\right)}$"
      ],
      "text/plain": [
       "-2**(-zeta)*(cos(pi*rik/rc) + 1)*(cos(pi*rjk/rc) + 1)*(0.5*eta*rc*rij**2*rik*zij*(cosTheta*lambda + 1)**(zeta + 1)*(cos(pi*rij/rc) + 1) + 0.25*lambda*rc*zeta*(cosTheta*lambda + 1)**zeta*(cosTheta*rik*zij - rij*zik)*(cos(pi*rij/rc) + 1) + 0.25*pi*rij*rik*zij*(cosTheta*lambda + 1)**(zeta + 1)*sin(pi*rij/rc))*exp(-eta*(rij**2 + rik**2 + rjk**2))/(rc*rij**2*rik*(cosTheta*lambda + 1))"
      ]
     },
     "metadata": {},
     "output_type": "display_data"
    },
    {
     "name": "stdout",
     "output_type": "stream",
     "text": [
      "###\n"
     ]
    },
    {
     "data": {
      "text/latex": [
       "$\\displaystyle - \\frac{2^{- \\zeta} \\left(\\cos{\\left(\\frac{\\pi rij}{rc} \\right)} + 1\\right) \\left(\\cos{\\left(\\frac{\\pi rjk}{rc} \\right)} + 1\\right) \\left(0.5 \\eta rc rij rik^{2} xik \\left(cosTheta \\lambda + 1\\right)^{\\zeta + 1} \\left(\\cos{\\left(\\frac{\\pi rik}{rc} \\right)} + 1\\right) + 0.25 \\lambda rc \\zeta \\left(cosTheta \\lambda + 1\\right)^{\\zeta} \\left(cosTheta rij xik - rik xij\\right) \\left(\\cos{\\left(\\frac{\\pi rik}{rc} \\right)} + 1\\right) + 0.25 \\pi rij rik xik \\left(cosTheta \\lambda + 1\\right)^{\\zeta + 1} \\sin{\\left(\\frac{\\pi rik}{rc} \\right)}\\right) e^{- \\eta \\left(rij^{2} + rik^{2} + rjk^{2}\\right)}}{rc rij rik^{2} \\left(cosTheta \\lambda + 1\\right)}$"
      ],
      "text/plain": [
       "-2**(-zeta)*(cos(pi*rij/rc) + 1)*(cos(pi*rjk/rc) + 1)*(0.5*eta*rc*rij*rik**2*xik*(cosTheta*lambda + 1)**(zeta + 1)*(cos(pi*rik/rc) + 1) + 0.25*lambda*rc*zeta*(cosTheta*lambda + 1)**zeta*(cosTheta*rij*xik - rik*xij)*(cos(pi*rik/rc) + 1) + 0.25*pi*rij*rik*xik*(cosTheta*lambda + 1)**(zeta + 1)*sin(pi*rik/rc))*exp(-eta*(rij**2 + rik**2 + rjk**2))/(rc*rij*rik**2*(cosTheta*lambda + 1))"
      ]
     },
     "metadata": {},
     "output_type": "display_data"
    },
    {
     "name": "stdout",
     "output_type": "stream",
     "text": [
      "###\n"
     ]
    },
    {
     "data": {
      "text/latex": [
       "$\\displaystyle - \\frac{2^{- \\zeta} \\left(\\cos{\\left(\\frac{\\pi rij}{rc} \\right)} + 1\\right) \\left(\\cos{\\left(\\frac{\\pi rjk}{rc} \\right)} + 1\\right) \\left(0.5 \\eta rc rij rik^{2} yik \\left(cosTheta \\lambda + 1\\right)^{\\zeta + 1} \\left(\\cos{\\left(\\frac{\\pi rik}{rc} \\right)} + 1\\right) + 0.25 \\lambda rc \\zeta \\left(cosTheta \\lambda + 1\\right)^{\\zeta} \\left(cosTheta rij yik - rik yij\\right) \\left(\\cos{\\left(\\frac{\\pi rik}{rc} \\right)} + 1\\right) + 0.25 \\pi rij rik yik \\left(cosTheta \\lambda + 1\\right)^{\\zeta + 1} \\sin{\\left(\\frac{\\pi rik}{rc} \\right)}\\right) e^{- \\eta \\left(rij^{2} + rik^{2} + rjk^{2}\\right)}}{rc rij rik^{2} \\left(cosTheta \\lambda + 1\\right)}$"
      ],
      "text/plain": [
       "-2**(-zeta)*(cos(pi*rij/rc) + 1)*(cos(pi*rjk/rc) + 1)*(0.5*eta*rc*rij*rik**2*yik*(cosTheta*lambda + 1)**(zeta + 1)*(cos(pi*rik/rc) + 1) + 0.25*lambda*rc*zeta*(cosTheta*lambda + 1)**zeta*(cosTheta*rij*yik - rik*yij)*(cos(pi*rik/rc) + 1) + 0.25*pi*rij*rik*yik*(cosTheta*lambda + 1)**(zeta + 1)*sin(pi*rik/rc))*exp(-eta*(rij**2 + rik**2 + rjk**2))/(rc*rij*rik**2*(cosTheta*lambda + 1))"
      ]
     },
     "metadata": {},
     "output_type": "display_data"
    },
    {
     "name": "stdout",
     "output_type": "stream",
     "text": [
      "###\n"
     ]
    },
    {
     "data": {
      "text/latex": [
       "$\\displaystyle - \\frac{2^{- \\zeta} \\left(\\cos{\\left(\\frac{\\pi rij}{rc} \\right)} + 1\\right) \\left(\\cos{\\left(\\frac{\\pi rjk}{rc} \\right)} + 1\\right) \\left(0.5 \\eta rc rij rik^{2} zik \\left(cosTheta \\lambda + 1\\right)^{\\zeta + 1} \\left(\\cos{\\left(\\frac{\\pi rik}{rc} \\right)} + 1\\right) + 0.25 \\lambda rc \\zeta \\left(cosTheta \\lambda + 1\\right)^{\\zeta} \\left(cosTheta rij zik - rik zij\\right) \\left(\\cos{\\left(\\frac{\\pi rik}{rc} \\right)} + 1\\right) + 0.25 \\pi rij rik zik \\left(cosTheta \\lambda + 1\\right)^{\\zeta + 1} \\sin{\\left(\\frac{\\pi rik}{rc} \\right)}\\right) e^{- \\eta \\left(rij^{2} + rik^{2} + rjk^{2}\\right)}}{rc rij rik^{2} \\left(cosTheta \\lambda + 1\\right)}$"
      ],
      "text/plain": [
       "-2**(-zeta)*(cos(pi*rij/rc) + 1)*(cos(pi*rjk/rc) + 1)*(0.5*eta*rc*rij*rik**2*zik*(cosTheta*lambda + 1)**(zeta + 1)*(cos(pi*rik/rc) + 1) + 0.25*lambda*rc*zeta*(cosTheta*lambda + 1)**zeta*(cosTheta*rij*zik - rik*zij)*(cos(pi*rik/rc) + 1) + 0.25*pi*rij*rik*zik*(cosTheta*lambda + 1)**(zeta + 1)*sin(pi*rik/rc))*exp(-eta*(rij**2 + rik**2 + rjk**2))/(rc*rij*rik**2*(cosTheta*lambda + 1))"
      ]
     },
     "metadata": {},
     "output_type": "display_data"
    },
    {
     "name": "stdout",
     "output_type": "stream",
     "text": [
      "###\n"
     ]
    }
   ],
   "source": [
    "DG4dxij = diff(G4, xij)\n",
    "display(New_angular(DG4dxij))\n",
    "print('###')\n",
    "\n",
    "DG4dyij = diff(G4, yij)\n",
    "display(New_angular(DG4dyij))\n",
    "print('###')\n",
    "\n",
    "DG4dzij = diff(G4, zij)\n",
    "display(New_angular(DG4dzij))\n",
    "print('###')\n",
    "\n",
    "DG4dxik = diff(G4, xik)\n",
    "display(New_angular(DG4dxik))\n",
    "print('###')\n",
    "\n",
    "DG4dyik = diff(G4, yik)\n",
    "display(New_angular(DG4dyik))\n",
    "print('###')\n",
    "\n",
    "DG4dzik = diff(G4, zik)\n",
    "display(New_angular(DG4dzik))\n",
    "print('###')\n"
   ]
  },
  {
   "cell_type": "code",
   "execution_count": 94,
   "metadata": {},
   "outputs": [],
   "source": [
    "def New_G5(eq5):\n",
    "    eq5 = eq5.subs( sqrt(xij**2 + yij**2 + zij**2), rij        )\n",
    "    eq5 = eq5.subs( sqrt(xik**2 + yik**2 + zik**2), rik        )\n",
    "    eq5 = eq5.subs( xij*xik + yij*yik + zij*zik   , rij_dot_ik )\n",
    "    eq5 = eq5.subs( rij_dot_ik/(rij*rik)          , cosTheta   )\n",
    "    eq5 = eq5.subs( xij**2 + yij**2 + zij**2      , rij**2     )\n",
    "    eq5 = eq5.subs( xik**2 + yik**2 + zik**2      , rik**2     )\n",
    "    eq5 = eq5.simplify()\n",
    "    return(eq5)"
   ]
  },
  {
   "cell_type": "code",
   "execution_count": 95,
   "metadata": {},
   "outputs": [],
   "source": [
    "G5 = 2**(1-zeta) * (1+lamb*cos_t)**zeta * exp(-eta*(xij**2+yij**2+zij**2+ xik**2+yik**2+zik**2))* fc_rij * fc_rik"
   ]
  },
  {
   "cell_type": "code",
   "execution_count": 96,
   "metadata": {},
   "outputs": [
    {
     "data": {
      "text/latex": [
       "$\\displaystyle - \\frac{2^{- \\zeta} \\left(\\cos{\\left(\\frac{\\pi rik}{rc} \\right)} + 1\\right) \\left(1.0 \\eta rc rij^{2} rik xij \\left(cosTheta \\lambda + 1\\right)^{\\zeta + 1} \\left(\\cos{\\left(\\frac{\\pi rij}{rc} \\right)} + 1\\right) + 0.5 \\lambda rc \\zeta \\left(cosTheta \\lambda + 1\\right)^{\\zeta} \\left(cosTheta rik xij - rij xik\\right) \\left(\\cos{\\left(\\frac{\\pi rij}{rc} \\right)} + 1\\right) + 0.5 \\pi rij rik xij \\left(cosTheta \\lambda + 1\\right)^{\\zeta + 1} \\sin{\\left(\\frac{\\pi rij}{rc} \\right)}\\right) e^{- \\eta \\left(rij^{2} + rik^{2}\\right)}}{rc rij^{2} rik \\left(cosTheta \\lambda + 1\\right)}$"
      ],
      "text/plain": [
       "-2**(-zeta)*(cos(pi*rik/rc) + 1)*(1.0*eta*rc*rij**2*rik*xij*(cosTheta*lambda + 1)**(zeta + 1)*(cos(pi*rij/rc) + 1) + 0.5*lambda*rc*zeta*(cosTheta*lambda + 1)**zeta*(cosTheta*rik*xij - rij*xik)*(cos(pi*rij/rc) + 1) + 0.5*pi*rij*rik*xij*(cosTheta*lambda + 1)**(zeta + 1)*sin(pi*rij/rc))*exp(-eta*(rij**2 + rik**2))/(rc*rij**2*rik*(cosTheta*lambda + 1))"
      ]
     },
     "metadata": {},
     "output_type": "display_data"
    },
    {
     "name": "stdout",
     "output_type": "stream",
     "text": [
      "###\n"
     ]
    },
    {
     "data": {
      "text/latex": [
       "$\\displaystyle - \\frac{2^{- \\zeta} \\left(\\cos{\\left(\\frac{\\pi rik}{rc} \\right)} + 1\\right) \\left(1.0 \\eta rc rij^{2} rik yij \\left(cosTheta \\lambda + 1\\right)^{\\zeta + 1} \\left(\\cos{\\left(\\frac{\\pi rij}{rc} \\right)} + 1\\right) + 0.5 \\lambda rc \\zeta \\left(cosTheta \\lambda + 1\\right)^{\\zeta} \\left(cosTheta rik yij - rij yik\\right) \\left(\\cos{\\left(\\frac{\\pi rij}{rc} \\right)} + 1\\right) + 0.5 \\pi rij rik yij \\left(cosTheta \\lambda + 1\\right)^{\\zeta + 1} \\sin{\\left(\\frac{\\pi rij}{rc} \\right)}\\right) e^{- \\eta \\left(rij^{2} + rik^{2}\\right)}}{rc rij^{2} rik \\left(cosTheta \\lambda + 1\\right)}$"
      ],
      "text/plain": [
       "-2**(-zeta)*(cos(pi*rik/rc) + 1)*(1.0*eta*rc*rij**2*rik*yij*(cosTheta*lambda + 1)**(zeta + 1)*(cos(pi*rij/rc) + 1) + 0.5*lambda*rc*zeta*(cosTheta*lambda + 1)**zeta*(cosTheta*rik*yij - rij*yik)*(cos(pi*rij/rc) + 1) + 0.5*pi*rij*rik*yij*(cosTheta*lambda + 1)**(zeta + 1)*sin(pi*rij/rc))*exp(-eta*(rij**2 + rik**2))/(rc*rij**2*rik*(cosTheta*lambda + 1))"
      ]
     },
     "metadata": {},
     "output_type": "display_data"
    },
    {
     "name": "stdout",
     "output_type": "stream",
     "text": [
      "###\n"
     ]
    },
    {
     "data": {
      "text/latex": [
       "$\\displaystyle - \\frac{2^{- \\zeta} \\left(\\cos{\\left(\\frac{\\pi rik}{rc} \\right)} + 1\\right) \\left(1.0 \\eta rc rij^{2} rik zij \\left(cosTheta \\lambda + 1\\right)^{\\zeta + 1} \\left(\\cos{\\left(\\frac{\\pi rij}{rc} \\right)} + 1\\right) + 0.5 \\lambda rc \\zeta \\left(cosTheta \\lambda + 1\\right)^{\\zeta} \\left(cosTheta rik zij - rij zik\\right) \\left(\\cos{\\left(\\frac{\\pi rij}{rc} \\right)} + 1\\right) + 0.5 \\pi rij rik zij \\left(cosTheta \\lambda + 1\\right)^{\\zeta + 1} \\sin{\\left(\\frac{\\pi rij}{rc} \\right)}\\right) e^{- \\eta \\left(rij^{2} + rik^{2}\\right)}}{rc rij^{2} rik \\left(cosTheta \\lambda + 1\\right)}$"
      ],
      "text/plain": [
       "-2**(-zeta)*(cos(pi*rik/rc) + 1)*(1.0*eta*rc*rij**2*rik*zij*(cosTheta*lambda + 1)**(zeta + 1)*(cos(pi*rij/rc) + 1) + 0.5*lambda*rc*zeta*(cosTheta*lambda + 1)**zeta*(cosTheta*rik*zij - rij*zik)*(cos(pi*rij/rc) + 1) + 0.5*pi*rij*rik*zij*(cosTheta*lambda + 1)**(zeta + 1)*sin(pi*rij/rc))*exp(-eta*(rij**2 + rik**2))/(rc*rij**2*rik*(cosTheta*lambda + 1))"
      ]
     },
     "metadata": {},
     "output_type": "display_data"
    },
    {
     "name": "stdout",
     "output_type": "stream",
     "text": [
      "###\n"
     ]
    },
    {
     "data": {
      "text/latex": [
       "$\\displaystyle - \\frac{2^{- \\zeta} \\left(\\cos{\\left(\\frac{\\pi rij}{rc} \\right)} + 1\\right) \\left(1.0 \\eta rc rij rik^{2} xik \\left(cosTheta \\lambda + 1\\right)^{\\zeta + 1} \\left(\\cos{\\left(\\frac{\\pi rik}{rc} \\right)} + 1\\right) + 0.5 \\lambda rc \\zeta \\left(cosTheta \\lambda + 1\\right)^{\\zeta} \\left(cosTheta rij xik - rik xij\\right) \\left(\\cos{\\left(\\frac{\\pi rik}{rc} \\right)} + 1\\right) + 0.5 \\pi rij rik xik \\left(cosTheta \\lambda + 1\\right)^{\\zeta + 1} \\sin{\\left(\\frac{\\pi rik}{rc} \\right)}\\right) e^{- \\eta \\left(rij^{2} + rik^{2}\\right)}}{rc rij rik^{2} \\left(cosTheta \\lambda + 1\\right)}$"
      ],
      "text/plain": [
       "-2**(-zeta)*(cos(pi*rij/rc) + 1)*(1.0*eta*rc*rij*rik**2*xik*(cosTheta*lambda + 1)**(zeta + 1)*(cos(pi*rik/rc) + 1) + 0.5*lambda*rc*zeta*(cosTheta*lambda + 1)**zeta*(cosTheta*rij*xik - rik*xij)*(cos(pi*rik/rc) + 1) + 0.5*pi*rij*rik*xik*(cosTheta*lambda + 1)**(zeta + 1)*sin(pi*rik/rc))*exp(-eta*(rij**2 + rik**2))/(rc*rij*rik**2*(cosTheta*lambda + 1))"
      ]
     },
     "metadata": {},
     "output_type": "display_data"
    },
    {
     "name": "stdout",
     "output_type": "stream",
     "text": [
      "###\n"
     ]
    },
    {
     "data": {
      "text/latex": [
       "$\\displaystyle - \\frac{2^{- \\zeta} \\left(\\cos{\\left(\\frac{\\pi rij}{rc} \\right)} + 1\\right) \\left(1.0 \\eta rc rij rik^{2} yik \\left(cosTheta \\lambda + 1\\right)^{\\zeta + 1} \\left(\\cos{\\left(\\frac{\\pi rik}{rc} \\right)} + 1\\right) + 0.5 \\lambda rc \\zeta \\left(cosTheta \\lambda + 1\\right)^{\\zeta} \\left(cosTheta rij yik - rik yij\\right) \\left(\\cos{\\left(\\frac{\\pi rik}{rc} \\right)} + 1\\right) + 0.5 \\pi rij rik yik \\left(cosTheta \\lambda + 1\\right)^{\\zeta + 1} \\sin{\\left(\\frac{\\pi rik}{rc} \\right)}\\right) e^{- \\eta \\left(rij^{2} + rik^{2}\\right)}}{rc rij rik^{2} \\left(cosTheta \\lambda + 1\\right)}$"
      ],
      "text/plain": [
       "-2**(-zeta)*(cos(pi*rij/rc) + 1)*(1.0*eta*rc*rij*rik**2*yik*(cosTheta*lambda + 1)**(zeta + 1)*(cos(pi*rik/rc) + 1) + 0.5*lambda*rc*zeta*(cosTheta*lambda + 1)**zeta*(cosTheta*rij*yik - rik*yij)*(cos(pi*rik/rc) + 1) + 0.5*pi*rij*rik*yik*(cosTheta*lambda + 1)**(zeta + 1)*sin(pi*rik/rc))*exp(-eta*(rij**2 + rik**2))/(rc*rij*rik**2*(cosTheta*lambda + 1))"
      ]
     },
     "metadata": {},
     "output_type": "display_data"
    },
    {
     "name": "stdout",
     "output_type": "stream",
     "text": [
      "###\n"
     ]
    },
    {
     "data": {
      "text/latex": [
       "$\\displaystyle - \\frac{2^{- \\zeta} \\left(\\cos{\\left(\\frac{\\pi rij}{rc} \\right)} + 1\\right) \\left(1.0 \\eta rc rij rik^{2} zik \\left(cosTheta \\lambda + 1\\right)^{\\zeta + 1} \\left(\\cos{\\left(\\frac{\\pi rik}{rc} \\right)} + 1\\right) + 0.5 \\lambda rc \\zeta \\left(cosTheta \\lambda + 1\\right)^{\\zeta} \\left(cosTheta rij zik - rik zij\\right) \\left(\\cos{\\left(\\frac{\\pi rik}{rc} \\right)} + 1\\right) + 0.5 \\pi rij rik zik \\left(cosTheta \\lambda + 1\\right)^{\\zeta + 1} \\sin{\\left(\\frac{\\pi rik}{rc} \\right)}\\right) e^{- \\eta \\left(rij^{2} + rik^{2}\\right)}}{rc rij rik^{2} \\left(cosTheta \\lambda + 1\\right)}$"
      ],
      "text/plain": [
       "-2**(-zeta)*(cos(pi*rij/rc) + 1)*(1.0*eta*rc*rij*rik**2*zik*(cosTheta*lambda + 1)**(zeta + 1)*(cos(pi*rik/rc) + 1) + 0.5*lambda*rc*zeta*(cosTheta*lambda + 1)**zeta*(cosTheta*rij*zik - rik*zij)*(cos(pi*rik/rc) + 1) + 0.5*pi*rij*rik*zik*(cosTheta*lambda + 1)**(zeta + 1)*sin(pi*rik/rc))*exp(-eta*(rij**2 + rik**2))/(rc*rij*rik**2*(cosTheta*lambda + 1))"
      ]
     },
     "metadata": {},
     "output_type": "display_data"
    },
    {
     "name": "stdout",
     "output_type": "stream",
     "text": [
      "###\n"
     ]
    }
   ],
   "source": [
    "DG5dxij = diff(G5, xij)\n",
    "display(New_G5(DG5dxij))\n",
    "print('###')\n",
    "\n",
    "DG5dyij = diff(G5, yij)\n",
    "display(New_G5(DG5dyij))\n",
    "print('###')\n",
    "\n",
    "DG5dzij = diff(G5, zij)\n",
    "display(New_G5(DG5dzij))\n",
    "print('###')\n",
    "\n",
    "DG5dxik = diff(G5, xik)\n",
    "display(New_G5(DG5dxik))\n",
    "print('###')\n",
    "\n",
    "DG5dyik = diff(G5, yik)\n",
    "display(New_G5(DG5dyik))\n",
    "print('###')\n",
    "\n",
    "DG5dzik = diff(G5, zik)\n",
    "display(New_G5(DG5dzik))\n",
    "print('###')\n"
   ]
  },
  {
   "cell_type": "code",
   "execution_count": null,
   "metadata": {},
   "outputs": [],
   "source": []
  }
 ],
 "metadata": {
  "kernelspec": {
   "display_name": "Python 3",
   "language": "python",
   "name": "python3"
  },
  "language_info": {
   "codemirror_mode": {
    "name": "ipython",
    "version": 3
   },
   "file_extension": ".py",
   "mimetype": "text/x-python",
   "name": "python",
   "nbconvert_exporter": "python",
   "pygments_lexer": "ipython3",
   "version": "3.7.4"
  }
 },
 "nbformat": 4,
 "nbformat_minor": 2
}
