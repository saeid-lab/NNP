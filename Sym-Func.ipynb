{
 "cells": [
  {
   "cell_type": "code",
   "execution_count": 1,
   "metadata": {},
   "outputs": [],
   "source": [
    "import numpy as np\n",
    "from math import exp,cos,pi,tanh,sqrt "
   ]
  },
  {
   "cell_type": "code",
   "execution_count": 2,
   "metadata": {},
   "outputs": [],
   "source": [
    "def Fc(r,rc):\n",
    "    if r <= rc:\n",
    "        return (0.5*(cos(pi*r/rc)+1))\n",
    "    else:\n",
    "        return(0)"
   ]
  },
  {
   "cell_type": "code",
   "execution_count": 5,
   "metadata": {},
   "outputs": [],
   "source": [
    "def G1(r, rc, cutoff=Fc):\n",
    "    r_cut     = cutoff(r,rc)\n",
    "    summation = np.sum( r_cut )\n",
    "    return (summation)"
   ]
  },
  {
   "cell_type": "code",
   "execution_count": 9,
   "metadata": {},
   "outputs": [],
   "source": [
    "def G2(r, rc, rs, eta, cutoff=Fc):\n",
    "    r_cut     = cutoff(r,rc)\n",
    "    summation = np.sum( np.exp(-eta*(r-rs)**2)*r_cut )\n",
    "    return (summation)"
   ]
  },
  {
   "cell_type": "code",
   "execution_count": 11,
   "metadata": {},
   "outputs": [],
   "source": [
    "def G3(r, rc, kappa, cutoff=Fc):\n",
    "    r_cut     = cutoff(r,rc)\n",
    "    summation = np.sum( np.cos(kappa*r)*r_cut )\n",
    "    return (summation)"
   ]
  },
  {
   "cell_type": "code",
   "execution_count": 52,
   "metadata": {},
   "outputs": [],
   "source": [
    "def G4(xyz, rc, eta, zeta, lambda_c, cutoff=Fc):\n",
    "    \"\"\" xyz:\n",
    "    [[x1 y1 z1]\n",
    "     [x2 y2 z2]\n",
    "     [x3 y3 z3]\n",
    "     [x4 y4 z4]]\n",
    "     \"\"\"\n",
    "    r         = np.linalg.norm(xyz,axis=1)\n",
    "    N         = len(r)\n",
    "    r_cut     = cutoff(r,rc)\n",
    "    summation = 0\n",
    "    for j in range(N):\n",
    "        for k in range(j+1,N):\n",
    "            r_jk       = np.linalg.norm(xyz[j] - xyz[k])\n",
    "            cos_theta  = np.dot(xyz[j],xyz[k]) / (r[j]*r[k])\n",
    "            cutoff_ijk = r_cut[j] * r_cut[k] * cutoff(r_jk, rc)\n",
    "            part_sum   = (1+lambda_c * cos_theta)**zeta * exp(-eta*(r[j]**2+r[k]**2+r_jk**2))\n",
    "            summation += part_sum*cutoff_ijk\n",
    "    summation *= 2**(1-zeta) # Normalization factor\n",
    "    return (summation)\n"
   ]
  },
  {
   "cell_type": "code",
   "execution_count": 54,
   "metadata": {},
   "outputs": [],
   "source": [
    "def G5(xyz, rc, eta, zeta, lambda_c, cutoff=Fc):\n",
    "    \"\"\" xyz:\n",
    "    [[x1 y1 z1]\n",
    "     [x2 y2 z2]\n",
    "     [x3 y3 z3]\n",
    "     [x4 y4 z4]]\n",
    "     \"\"\"\n",
    "    r         = np.linalg.norm(xyz,axis=1)\n",
    "    N         = len(r)\n",
    "    r_cut     = cutoff(r,rc)\n",
    "    summation = 0\n",
    "    for j in range(N):\n",
    "        for k in range(j+1,N):\n",
    "            cos_theta  = np.dot(xyz[j],xyz[k]) / (r[j]*r[k])\n",
    "            cutoff_ijk = r_cut[j] * r_cut[k]\n",
    "            part_sum   = (1+lambda_c * cos_theta)**zeta * exp(-eta*(r[j]**2+r[k]**2))\n",
    "            summation += part_sum*cutoff_ijk\n",
    "    summation *= 2**(1-zeta)\n",
    "    return (summation)"
   ]
  },
  {
   "cell_type": "code",
   "execution_count": null,
   "metadata": {},
   "outputs": [],
   "source": []
  }
 ],
 "metadata": {
  "kernelspec": {
   "display_name": "Python 3",
   "language": "python",
   "name": "python3"
  },
  "language_info": {
   "codemirror_mode": {
    "name": "ipython",
    "version": 3
   },
   "file_extension": ".py",
   "mimetype": "text/x-python",
   "name": "python",
   "nbconvert_exporter": "python",
   "pygments_lexer": "ipython3",
   "version": "3.7.4"
  }
 },
 "nbformat": 4,
 "nbformat_minor": 2
}
